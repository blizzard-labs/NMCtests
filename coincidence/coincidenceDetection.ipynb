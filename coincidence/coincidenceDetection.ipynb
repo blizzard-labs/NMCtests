{
 "cells": [
  {
   "cell_type": "markdown",
   "metadata": {},
   "source": [
    "Adopted from code here: https://colab.research.google.com/github/neural-reckoning/cosyne-tutorial-2022/blob/main/2-coincidence-detection-solution.ipynb "
   ]
  },
  {
   "cell_type": "code",
   "execution_count": 1,
   "metadata": {},
   "outputs": [],
   "source": [
    "import ipywidgets as widgets\n",
    "from brian2 import *\n",
    "import matplotlib.gridspec as gridspec\n",
    "\n",
    "prefs.codegen.target = 'numpy'"
   ]
  },
  {
   "cell_type": "markdown",
   "metadata": {},
   "source": [
    "Input Signal Neurons (sets up the context w/ two ears)-- IPD, ITD, etc. and generates spiking signal based on poisson process"
   ]
  },
  {
   "cell_type": "code",
   "execution_count": 2,
   "metadata": {},
   "outputs": [
    {
     "data": {
      "application/vnd.jupyter.widget-view+json": {
       "model_id": "0bbc1e868cac48b8b8331a21130b5dab",
       "version_major": 2,
       "version_minor": 0
      },
      "text/plain": [
       "interactive(children=(IntSlider(value=100, continuous_update=False, description='rate_max_Hz', max=200, min=10…"
      ]
     },
     "metadata": {},
     "output_type": "display_data"
    }
   ],
   "source": [
    "def input_signal(rate_max_Hz=100, ipd_deg=90, f_Hz=3):\n",
    "    #Assigning units to all inputs\n",
    "    rate_max = rate_max_Hz*Hz\n",
    "    ipd = (pi/180) * ipd_deg\n",
    "    f = f_Hz*Hz\n",
    "    \n",
    "    #Defining equations governing ear neurons\n",
    "    eqs_ears = '''\n",
    "    theta = 2*pi*f*t + i*ipd : 1\n",
    "    rate = rate_max*0.5*(1+sin(theta)) : Hz\n",
    "    '''\n",
    "    #Group of two neurosn firing according to a Poisson process\n",
    "    ears = NeuronGroup(2, eqs_ears, threshold='rand()<rate*dt', dt=1*ms)\n",
    "    \n",
    "    #Recording the spikes\n",
    "    M_spike = SpikeMonitor(ears)\n",
    "    M_state = StateMonitor(ears, 'rate', record=True)\n",
    "    \n",
    "    #Running Simulation\n",
    "    run(1*second)\n",
    "    \n",
    "    #Plotting the outputs (ignoring stuff past this)\n",
    "    trains = M_spike.spike_trains()\n",
    "    fig = figure(figsize=(4, 2), dpi=200)\n",
    "    gs = gridspec.GridSpec(2, 1, hspace=0, height_ratios=[1, .3])\n",
    "    ax = subplot(gs[0])\n",
    "    plot(M_state.t/ms, M_state.rate[0]/Hz, label='Left ear')\n",
    "    plot(M_state.t/ms, M_state.rate[1]/Hz, label='Right ear')\n",
    "    legend(loc='upper right')\n",
    "    gca().set_frame_on(False)\n",
    "    ylabel('Rate')\n",
    "    yticks([])\n",
    "    xticks([])\n",
    "    ylim(-10, 210)\n",
    "    subplot(gs[1], sharex=ax)\n",
    "    plot(trains[0]/ms, [0]*len(trains[0]), '|')\n",
    "    plot(trains[1]/ms, [1]*len(trains[1]), '|')\n",
    "    ylim(-1, 2)\n",
    "    gca().set_frame_on(False)\n",
    "    xlabel('Time')\n",
    "    ylabel('Spikes')\n",
    "    yticks([])\n",
    "    xticks([])\n",
    "    tight_layout()\n",
    "    \n",
    "if widgets is not None:\n",
    "    widgets.interact(input_signal,\n",
    "        rate_max_Hz=widgets.IntSlider(min=10, max=200, value=100, step=10, continuous_update=False),\n",
    "        ipd_deg=widgets.IntSlider(min=0, max=360, value=90, step=10, continuous_update=False),\n",
    "        f_Hz=widgets.FloatSlider(min=0, max=10, value=3, step=.1, continuous_update=False),\n",
    "        );\n",
    "else:\n",
    "    input_signal()"
   ]
  },
  {
   "cell_type": "markdown",
   "metadata": {},
   "source": [
    "Setting up coincidence detector neurons "
   ]
  },
  {
   "cell_type": "code",
   "execution_count": 4,
   "metadata": {},
   "outputs": [
    {
     "data": {
      "application/vnd.jupyter.widget-view+json": {
       "model_id": "a3652c51e0c74889a36cf8425831c03f",
       "version_major": 2,
       "version_minor": 0
      },
      "text/plain": [
       "interactive(children=(IntSlider(value=400, continuous_update=False, description='rate_max_Hz', max=1000, min=1…"
      ]
     },
     "metadata": {},
     "output_type": "display_data"
    }
   ],
   "source": [
    "def localize(rate_max_Hz=400, ipd_deg=200, f_Hz=50, w = 0.5, tau_ms=1, N_cd=100, duration=1*second):\n",
    "    rate_max = rate_max_Hz*Hz\n",
    "    ipd = (pi/180)*ipd_deg\n",
    "    f = f_Hz*Hz\n",
    "    tau = tau_ms*ms\n",
    "    itd = ipd/(2*pi*f)\n",
    "    \n",
    "    #Adding padding on both sides with rate=0.5*rate_max to make sure signal is same on both sides\n",
    "    eqs_ears = '''\n",
    "    theta = 2*pi*f*t + i*ipd : 1\n",
    "    signal_is_on = int(t<duration-itd)*int(i==0)+int(t>itd)*int(i==1) : 1\n",
    "    rate = rate_max*0.5*(1+signal_is_on*sin(theta)) : Hz\n",
    "    '''\n",
    "    \n",
    "    ears = NeuronGroup(2, eqs_ears, threshold='rand()<rate*dt')\n",
    "    \n",
    "    # Stard LIF neuron with added best IPD and best ITD\n",
    "    \n",
    "    eqs_cd = '''\n",
    "    dv/dt = -v/tau : 1\n",
    "    best_ipd = 2*pi*i/(N_cd-1) : 1\n",
    "    best_itd = best_ipd/(2*pi*f) : second\n",
    "    '''\n",
    "    \n",
    "    cd = NeuronGroup(N_cd, eqs_cd, threshold='v>1', reset='v=0', method='exact')\n",
    "    \n",
    "    #Synapses from ears to coincidence detector neurons\n",
    "    S = Synapses(ears, cd, on_pre='v += w')\n",
    "    #All presynaptic neurons are connected to all post synaptic neurons\n",
    "    S.connect(p=1)\n",
    "    #Delays are 0 by default so we set the delays for where the presynaptic neuron has index 1\n",
    "    S.delay['i==1'] = 'best_itd'\n",
    "    \n",
    "    M = SpikeMonitor(cd)\n",
    "    \n",
    "    run(duration)\n",
    "    \n",
    "    #We take as our estimate the mean best IPD of all neurons with maximum spike count\n",
    "    i = max(M.count)\n",
    "    I = M.count==i\n",
    "    ipd_est = mean(cd.best_ipd[I])\n",
    "    \n",
    "    figure(figsize=(6, 4), dpi=100)\n",
    "    plot(cd.best_ipd[I]*180/pi, M.count[I], 'or')\n",
    "    plot(cd.best_ipd*(180/pi), M.count, '.k')\n",
    "    axvline(ipd_deg, ls='--', c='b', label='True IPD')\n",
    "    axvline(ipd_est*180/pi, ls='--', c='r', label='Estimated IPD')\n",
    "    xlabel('IPD (deg)')\n",
    "    ylabel('Spike count')\n",
    "    legend(loc='lower right')\n",
    "    tight_layout()\n",
    "\n",
    "if widgets is not None:\n",
    "    widgets.interact(localize,\n",
    "        rate_max_Hz=widgets.IntSlider(min=10, max=1000, value=400, step=10, continuous_update=False),\n",
    "        ipd_deg=widgets.IntSlider(min=0, max=360, value=90, step=10, continuous_update=False),\n",
    "        f_Hz=widgets.IntSlider(min=0, max=200, value=50, step=5, continuous_update=False),\n",
    "        w=widgets.FloatSlider(min=.1, max=1, value=.5, step=.1, continuous_update=False),\n",
    "        tau_ms=widgets.FloatSlider(min=.1, max=10, value=1, step=.1, continuous_update=False),\n",
    "        N_cd=widgets.IntSlider(min=10, max=1000, value=100, step=10, continuous_update=False),\n",
    "        duration=widgets.fixed(1*second),\n",
    "        );\n",
    "else:\n",
    "    localize()\n",
    "    "
   ]
  },
  {
   "cell_type": "code",
   "execution_count": null,
   "metadata": {},
   "outputs": [],
   "source": []
  }
 ],
 "metadata": {
  "kernelspec": {
   "display_name": "nmc",
   "language": "python",
   "name": "python3"
  },
  "language_info": {
   "codemirror_mode": {
    "name": "ipython",
    "version": 3
   },
   "file_extension": ".py",
   "mimetype": "text/x-python",
   "name": "python",
   "nbconvert_exporter": "python",
   "pygments_lexer": "ipython3",
   "version": "3.11.8"
  }
 },
 "nbformat": 4,
 "nbformat_minor": 2
}
